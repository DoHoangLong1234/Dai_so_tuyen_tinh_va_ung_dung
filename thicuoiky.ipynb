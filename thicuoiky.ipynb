{
 "cells": [
  {
   "cell_type": "markdown",
   "id": "4a0560e5",
   "metadata": {},
   "source": [
    "THI CUỐI KỲ"
   ]
  },
  {
   "cell_type": "code",
   "execution_count": 24,
   "id": "5920e23a",
   "metadata": {},
   "outputs": [
    {
     "data": {
      "text/plain": [
       "(array([2, 3, 1, 6]),\n",
       " array([ 3, 11,  2, 14]),\n",
       " np.int64(-5),\n",
       " 99.594,\n",
       " array([[14, -8, 13],\n",
       "        [-8, 21, -2],\n",
       "        [13, -2, 29]]))"
      ]
     },
     "execution_count": 24,
     "metadata": {},
     "output_type": "execute_result"
    }
   ],
   "source": [
    "# Câu 1\n",
    "import numpy as np\n",
    "from numpy.linalg import norm\n",
    "from math import acos, degrees\n",
    "\n",
    "A = np.array([3, -2, 1, 4])\n",
    "B = np.array([-1, 5, 0, 2])\n",
    "C = np.array([[2, -1, 3], [1, 4, -2], [0, 2, 5]])\n",
    "\n",
    "# a\n",
    "tong = A + B\n",
    "tichtuyen = 2*A + 3*B\n",
    "\n",
    "# b\n",
    "tichvohuong = A @ B\n",
    "goc = degrees(acos(tichvohuong / (norm(A)*norm(B))))\n",
    "\n",
    "# c\n",
    "CCT = C @ C.T\n",
    "\n",
    "tong, tichtuyen, tichvohuong, round(goc,3), CCT\n",
    "\n"
   ]
  },
  {
   "cell_type": "code",
   "execution_count": 41,
   "id": "56ec2d0c",
   "metadata": {},
   "outputs": [
    {
     "name": "stdout",
     "output_type": "stream",
     "text": [
      "M × N =\n",
      " [[ -2  13   0  -5]\n",
      " [  2   0  12  30]\n",
      " [ 17   7  28 -14]\n",
      " [-13   3   5  15]]\n",
      "Định thức của M = 409.00000000000017\n",
      "Hạng của N = 4\n"
     ]
    }
   ],
   "source": [
    "# Câu 2\n",
    "from numpy.linalg import det, matrix_rank\n",
    "\n",
    "M = np.array([[2, -1, 3, 0],[1, 4, -2, 5],[0, 2, 6, -3],[-1, 0, 1, 4]])\n",
    "\n",
    "N = np.array([[1, 3, -2, 0],[4, -1, 5, 2],[0, 2, 3, -1],[-3, 1, 0, 4]])\n",
    "\n",
    "# a\n",
    "print(\"M × N =\\n\", M @ N)\n",
    "\n",
    "# b\n",
    "det_M = det(M)\n",
    "print(\"Định thức của M =\", det_M)\n",
    "\n",
    "# c\n",
    "print(\"Hạng của N =\", matrix_rank(N))\n",
    "\n",
    "\n"
   ]
  },
  {
   "cell_type": "code",
   "execution_count": 44,
   "id": "b3a1676a",
   "metadata": {},
   "outputs": [
    {
     "name": "stdout",
     "output_type": "stream",
     "text": [
      "P khả nghịch. Ma trận nghịch đảo:\n",
      " [[ 0.5         0.1         0.1        -0.3       ]\n",
      " [-0.14285714  0.2         0.05714286  0.11428571]\n",
      " [-0.03571429 -0.05        0.16428571  0.07857143]\n",
      " [-0.32142857 -0.05       -0.12142857  0.50714286]]\n",
      "Nghiệm x = [2.         1.71428571 0.42857143 0.85714286]\n",
      "Kiểm tra P · x = [6. 8. 3. 7.]\n"
     ]
    }
   ],
   "source": [
    "# Câu 3\n",
    "from numpy.linalg import inv\n",
    "\n",
    "P = np.array([[3, -1, 0, 2],[1, 4, -2, 0],[0, 1, 5, -1],[2, 0, 1, 3]])\n",
    "\n",
    "b_vec = np.array([6, 8, 3, 7])\n",
    "\n",
    "# a\n",
    "if det(P) != 0:\n",
    "    P_inv = inv(P)\n",
    "    print(\"P khả nghịch. Ma trận nghịch đảo:\\n\", P_inv)\n",
    "\n",
    "# b\n",
    "    x = P_inv @ b_vec\n",
    "    print(\"Nghiệm x =\", x)\n",
    "\n",
    "# c\n",
    "    check = P @ x\n",
    "    print(\"Kiểm tra P · x =\", check)\n",
    "else:\n",
    "    print(\"P không khả nghịch.\")\n"
   ]
  },
  {
   "cell_type": "code",
   "execution_count": null,
   "id": "a9b04fec",
   "metadata": {},
   "outputs": [
    {
     "name": "stdout",
     "output_type": "stream",
     "text": [
      "Ma trận Q:\n",
      "[[ 5 -2  1]\n",
      " [ 0  3 -1]\n",
      " [ 2  0  4]]\n",
      "Giá trị riêng:\n",
      "[6.3553014+0.j         2.8223493+1.07730381j 2.8223493-1.07730381j]\n",
      "\n",
      "Vector riêng (mỗi cột là một vector riêng):\n",
      "[[ 0.74846013+0.j         -0.37423006+0.34234215j -0.37423006-0.34234215j]\n",
      " [-0.18941773+0.j          0.09470887+0.57433055j  0.09470887-0.57433055j]\n",
      " [ 0.63555359+0.j          0.63555359+0.j          0.63555359-0.j        ]]\n",
      "\n",
      "Các vector riêng sau chuẩn hóa:\n",
      "[[ 0.74846013+0.j         -0.37423006+0.34234215j -0.37423006-0.34234215j]\n",
      " [-0.18941773+0.j          0.09470887+0.57433055j  0.09470887-0.57433055j]\n",
      " [ 0.63555359+0.j          0.63555359+0.j          0.63555359-0.j        ]]\n"
     ]
    }
   ],
   "source": [
    "# Câu 4\n",
    "import numpy as np\n",
    "\n",
    "# a\n",
    "Q = np.array([ [5, -2, 1],[0, 3, -1],[2, 0, 4]])\n",
    "\n",
    "print(\"Ma trận Q:\")\n",
    "print(Q)\n",
    "\n",
    "eigenvalues, eigenvectors = np.linalg.eig(Q)\n",
    "print(\"Giá trị riêng:\")\n",
    "print(eigenvalues)\n",
    "\n",
    "# b \n",
    "print(\"\\nVector riêng (mỗi cột là một vector riêng):\")\n",
    "print(eigenvectors)\n",
    "\n",
    "# c\n",
    "normalized = eigenvectors / np.linalg.norm(eigenvectors, axis=0)\n",
    "print(\"\\nCác vector riêng sau chuẩn hóa:\")\n",
    "print(normalized)\n",
    "\n"
   ]
  },
  {
   "cell_type": "code",
   "execution_count": 45,
   "id": "8f5211b8",
   "metadata": {},
   "outputs": [
    {
     "name": "stdout",
     "output_type": "stream",
     "text": [
      "Ma trận R:\n",
      "[[ 4 -1  2]\n",
      " [ 1  3 -2]\n",
      " [ 0  2  5]]\n",
      "Vector b:\n",
      "[12  5  9]\n",
      "Nghiệm x của hệ Rx = b:\n",
      "[2.78823529 1.52941176 1.18823529]\n",
      "Định thức của R = 85.0\n",
      "Ma trận nghịch đảo R^-1:\n",
      "[[ 0.22352941  0.10588235 -0.04705882]\n",
      " [-0.05882353  0.23529412  0.11764706]\n",
      " [ 0.02352941 -0.09411765  0.15294118]]\n",
      "Nghiệm tính bằng R^-1 × b:\n",
      "[2.78823529 1.52941176 1.18823529]\n",
      "So sánh với np.linalg.solve: [2.78823529 1.52941176 1.18823529]\n",
      "Chuẩn Frobenius của R = 8.0\n"
     ]
    }
   ],
   "source": [
    "# Câu 5\n",
    "import numpy as np\n",
    "\n",
    "# a\n",
    "R = np.array([[4, -1, 2],[1, 3, -2],[0, 2, 5]])\n",
    "\n",
    "b = np.array([12, 5, 9])\n",
    "\n",
    "print(\"Ma trận R:\")\n",
    "print(R)\n",
    "print(\"Vector b:\")\n",
    "print(b)\n",
    "\n",
    "x = np.linalg.solve(R, b)\n",
    "print(\"Nghiệm x của hệ Rx = b:\")\n",
    "print(x)\n",
    "\n",
    "# b\n",
    "det_R = np.linalg.det(R)\n",
    "print(\"Định thức của R =\", round(det_R, 3))\n",
    "\n",
    "if det_R != 0:\n",
    "    R_inv = np.linalg.inv(R)\n",
    "    print(\"Ma trận nghịch đảo R^-1:\")\n",
    "    print(R_inv)\n",
    "\n",
    "    x_check = R_inv @ b\n",
    "    print(\"Nghiệm tính bằng R^-1 × b:\")\n",
    "    print(x_check)\n",
    "    print(\"So sánh với np.linalg.solve:\", x)\n",
    "else:\n",
    "    print(\"R không khả nghịch.\")\n",
    "\n",
    "# c\n",
    "fro_norm = np.linalg.norm(R, 'fro')\n",
    "print(\"Chuẩn Frobenius của R =\", round(fro_norm, 3))\n",
    "\n"
   ]
  }
 ],
 "metadata": {
  "kernelspec": {
   "display_name": "Python 3",
   "language": "python",
   "name": "python3"
  },
  "language_info": {
   "codemirror_mode": {
    "name": "ipython",
    "version": 3
   },
   "file_extension": ".py",
   "mimetype": "text/x-python",
   "name": "python",
   "nbconvert_exporter": "python",
   "pygments_lexer": "ipython3",
   "version": "3.12.7"
  }
 },
 "nbformat": 4,
 "nbformat_minor": 5
}
