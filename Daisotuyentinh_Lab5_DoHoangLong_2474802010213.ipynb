{
 "cells": [
  {
   "cell_type": "code",
   "execution_count": null,
   "id": "e78fede9",
   "metadata": {},
   "outputs": [
    {
     "name": "stdout",
     "output_type": "stream",
     "text": [
      "=== 1.1. Các cách sao chép mảng ===\n",
      "B1 (tham chiếu A):\n",
      " [[1 2]\n",
      " [3 4]]\n",
      "B2 (np.copy):\n",
      " [[1 2]\n",
      " [3 4]]\n",
      "B3 (A.copy()):\n",
      " [[1 2]\n",
      " [3 4]]\n",
      "E sau khi copyto từ A:\n",
      " [[1 2]\n",
      " [3 4]]\n",
      "\n",
      "=== 1.2. Nên / không nên dùng numpy.matrix ===\n",
      "Ma trận B:\n",
      " [[1 2 3]\n",
      " [4 5 6]]\n",
      "B.T (transpose):\n",
      " [[1 4]\n",
      " [2 5]\n",
      " [3 6]]\n",
      "B.H (conjugate transpose):\n",
      " [[1 4]\n",
      " [2 5]\n",
      " [3 6]]\n",
      "B.I (nghịch đảo, nếu khả thi):\n",
      "[[-2.   1. ]\n",
      " [ 1.5 -0.5]]\n",
      "\n",
      "=== Mảng chứa object (dùng array) ===\n",
      "Mảng C chứa object:\n",
      " [[array([['a', 'b'],\n",
      "         ['c', 'd']], dtype='<U1') 'x']\n",
      " [1 2]]\n",
      "\n",
      "=== Kiểm tra lỗi khi tạo matrix 3 chiều ===\n",
      "Lỗi: matrix must be 2-dimensional\n",
      "Array 3 chiều:\n",
      " [[[1 2]\n",
      "  [3 4]]\n",
      "\n",
      " [[5 6]\n",
      "  [7 8]]]\n",
      "\n",
      "=== 1.3. Dùng numpy.matlib để tạo matrix ===\n",
      "Ma trận đơn vị G:\n",
      " [[1. 0. 0. 0. 0.]\n",
      " [0. 1. 0. 0. 0.]\n",
      " [0. 0. 1. 0. 0.]\n",
      " [0. 0. 0. 1. 0.]\n",
      " [0. 0. 0. 0. 1.]]\n",
      "Ma trận ngẫu nhiên H:\n",
      " [[-0.27684836  1.48395921]\n",
      " [-0.00234846 -1.01306041]\n",
      " [-0.06890632 -0.08824434]]\n",
      "Ma trận K toàn 0:\n",
      " [[0. 0. 0. 0.]\n",
      " [0. 0. 0. 0.]\n",
      " [0. 0. 0. 0.]\n",
      " [0. 0. 0. 0.]]\n"
     ]
    }
   ],
   "source": [
    "# BÀI THỰC HÀNH 1\n",
    "import numpy as np\n",
    "from numpy import matlib\n",
    "print(\"=== 1.1. Các cách sao chép mảng ===\")\n",
    "A = np.array([[1, 2], [3, 4]])\n",
    "B1 = A\n",
    "print(\"B1 (tham chiếu A):\\n\", B1)\n",
    "B2 = np.copy(A)\n",
    "print(\"B2 (np.copy):\\n\", B2)\n",
    "B3 = A.copy()\n",
    "print(\"B3 (A.copy()):\\n\", B3)\n",
    "\n",
    "E = np.array([[1, 2], [3, 5]])\n",
    "np.copyto(E, A)\n",
    "print(\"E sau khi copyto từ A:\\n\", E)\n",
    "\n",
    "print(\"\\n=== 1.2. Nên / không nên dùng numpy.matrix ===\")\n",
    "B = np.matrix(\"[1 2 3; 4 5 6]\")\n",
    "print(\"Ma trận B:\\n\", B)\n",
    "print(\"B.T (transpose):\\n\", B.T)\n",
    "print(\"B.H (conjugate transpose):\\n\", B.H)\n",
    "print(\"B.I (nghịch đảo, nếu khả thi):\")\n",
    "try:\n",
    "    print(np.matrix(\"[1 2; 3 4]\").I)\n",
    "except np.linalg.LinAlgError as e:\n",
    "    print(\"Lỗi:\", e)\n",
    "print(\"\\n=== Mảng chứa object (dùng array) ===\")\n",
    "x = np.array([['a', 'b'], ['c', 'd']])\n",
    "y = 'x'\n",
    "C = np.array([[x, y], [1, 2]], dtype=object)\n",
    "print(\"Mảng C chứa object:\\n\", C)\n",
    "print(\"\\n=== Kiểm tra lỗi khi tạo matrix 3 chiều ===\")\n",
    "try:\n",
    "    A3 = np.matrix([[[1, 2], [3, 4]], [[5, 6], [7, 8]]])\n",
    "except ValueError as e:\n",
    "    print(\"Lỗi:\", e)\n",
    "A_array = np.array([[[1, 2], [3, 4]], [[5, 6], [7, 8]]])\n",
    "print(\"Array 3 chiều:\\n\", A_array)\n",
    "\n",
    "print(\"\\n=== 1.3. Dùng numpy.matlib để tạo matrix ===\")\n",
    "G = matlib.identity(5)\n",
    "print(\"Ma trận đơn vị G:\\n\", G)\n",
    "\n",
    "H = matlib.randn(3, 2)\n",
    "print(\"Ma trận ngẫu nhiên H:\\n\", H)\n",
    "\n",
    "K = matlib.zeros([4, 4])\n",
    "print(\"Ma trận K toàn 0:\\n\", K)"
   ]
  },
  {
   "cell_type": "code",
   "execution_count": null,
   "id": "f6c06d9f",
   "metadata": {},
   "outputs": [
    {
     "name": "stdout",
     "output_type": "stream",
     "text": [
      "Ma trận kết quả:\n",
      " [[165707065  80143857]\n",
      " [ 52746197  25510582]]\n",
      "Số Pi xấp xỉ theo liên phân số: 3.1415926535897936\n"
     ]
    }
   ],
   "source": [
    "# BÀI THỰC HÀNH 2\n",
    "import numpy as np\n",
    "c = [3, 7, 15, 1, 292, 1, 1, 1, 2, 1, 3, 1, 14, 2]\n",
    "for i in range(len(c)):\n",
    "    ci = np.asmatrix([[1, 1], [1, 0]])\n",
    "    ci[0, 0] = c[i]\n",
    "    if i == 0:\n",
    "        M = ci\n",
    "    else:\n",
    "        M = M @ ci \n",
    "\n",
    "print(\"Ma trận kết quả:\\n\", M)\n",
    "print(\"Số Pi xấp xỉ theo liên phân số:\", M[0, 0] / M[1, 0])"
   ]
  },
  {
   "cell_type": "code",
   "execution_count": 9,
   "id": "a48b034b",
   "metadata": {},
   "outputs": [
    {
     "name": "stdout",
     "output_type": "stream",
     "text": [
      "Hệ số A (a0, a1):\n",
      "[[1.77635684e-15]\n",
      " [2.00000000e+00]]\n",
      "Phương trình: f(x) = 0.00 + 2.00 * x\n",
      "Tổng bình phương sai số: 4.9895452255228997e-29\n"
     ]
    }
   ],
   "source": [
    "# BÀI THỰC HÀNH 3\n",
    "import numpy as np\n",
    "X = np.array([[1, 1],\n",
    "              [1, 2],\n",
    "              [1, 3],\n",
    "              [1, 4],\n",
    "              [1, 5]])\n",
    "\n",
    "Y = np.array([[2],\n",
    "              [4],\n",
    "              [6],\n",
    "              [8],\n",
    "              [10]])\n",
    "XT = X.T\n",
    "A1 = np.linalg.inv(XT.dot(X))\n",
    "A2 = XT.dot(Y)\n",
    "A = A1.dot(A2)\n",
    "\n",
    "print(\"Hệ số A (a0, a1):\")\n",
    "print(A)\n",
    "a0 = A[0, 0]\n",
    "a1 = A[1, 0]\n",
    "print(f\"Phương trình: f(x) = {a0:.2f} + {a1:.2f} * x\")\n",
    "Y_pred = X.dot(A)\n",
    "error = np.sum((Y_pred - Y)**2)\n",
    "print(\"Tổng bình phương sai số:\", error)\n"
   ]
  },
  {
   "cell_type": "code",
   "execution_count": 10,
   "id": "0dc575f4",
   "metadata": {},
   "outputs": [
    {
     "name": "stdout",
     "output_type": "stream",
     "text": [
      "Phương trình tuyến tính: y = 10.2 + -1.9 * x\n"
     ]
    }
   ],
   "source": [
    "# BÀI TẬP 1\n",
    "import numpy as np\n",
    "\n",
    "def bpcuctieu(y_values):\n",
    "    n = len(y_values)\n",
    "    x0 = [1.0] * n           \n",
    "    x1 = [float(i) for i in range(n)]  \n",
    "    x = np.array([x0, x1])\n",
    "    u = np.dot(x, x.T)\n",
    "    u_inv = np.linalg.inv(u)\n",
    "    v = np.dot(u_inv, x)\n",
    "    y = np.array(y_values)\n",
    "    A = np.dot(v, y)\n",
    "    return A \n",
    "dulieu = [10.0, 8, 7, 5, 2]\n",
    "A = bpcuctieu(dulieu)\n",
    "print(f\"Phương trình tuyến tính: y = {A[0]:.1f} + {A[1]:.1f} * x\")\n"
   ]
  }
 ],
 "metadata": {
  "kernelspec": {
   "display_name": "Python 3",
   "language": "python",
   "name": "python3"
  },
  "language_info": {
   "codemirror_mode": {
    "name": "ipython",
    "version": 3
   },
   "file_extension": ".py",
   "mimetype": "text/x-python",
   "name": "python",
   "nbconvert_exporter": "python",
   "pygments_lexer": "ipython3",
   "version": "3.12.7"
  }
 },
 "nbformat": 4,
 "nbformat_minor": 5
}
