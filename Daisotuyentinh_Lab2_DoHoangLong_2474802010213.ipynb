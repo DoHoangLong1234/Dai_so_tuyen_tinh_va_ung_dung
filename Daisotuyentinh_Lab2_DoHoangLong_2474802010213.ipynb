{
 "cells": [
  {
   "cell_type": "code",
   "execution_count": 9,
   "id": "1cb32144",
   "metadata": {},
   "outputs": [
    {
     "name": "stdout",
     "output_type": "stream",
     "text": [
      "['so am' 'so duong' 'so duong' 'so am' 'so duong' 'so am']\n",
      "['so am' 'so duong' 'so duong' 'so 0' 'so am' 'so duong' 'so 0' 'so am']\n"
     ]
    }
   ],
   "source": [
    "# BÀI THỰC HÀNH 2\n",
    "import numpy as np \n",
    "scores = np.array([-1,1,2,-3,5,-4])\n",
    "print(np.select([scores >= 0, scores < 0], ['so duong', 'so am'], default='khong xac dinh'))\n",
    "scores = np.array([-1,1,2,0,-3,5,0,-4])\n",
    "print(np.select([scores > 0, scores == 0, scores < 0], ['so duong', 'so 0', 'so am'], default='khong xac dinh'))"
   ]
  },
  {
   "cell_type": "code",
   "execution_count": 18,
   "id": "dffe38e8",
   "metadata": {},
   "outputs": [
    {
     "name": "stdout",
     "output_type": "stream",
     "text": [
      "{x1: x4 + 160, x2: x4 - 80, x3: x4 + 520}\n"
     ]
    }
   ],
   "source": [
    "# BAÌ THỰC HÀNH 5\n",
    "import sympy as sp\n",
    "from sympy import Symbol\n",
    "x1 = Symbol('x1')\n",
    "x2 = Symbol('x2')\n",
    "x3 = Symbol('x3')\n",
    "x4 = Symbol('x4')\n",
    "from sympy import solve\n",
    "pt1 = x4+610-450-x1\n",
    "pt2 = x1+400-x2-640\n",
    "pt3 = x2+600-x3\n",
    "pt4 = x3-x4-520\n",
    "nghiem = sp.solve((pt1, pt2, pt3, pt4))\n",
    "print(nghiem)\n",
    "\n"
   ]
  },
  {
   "cell_type": "code",
   "execution_count": 19,
   "id": "97abecff",
   "metadata": {},
   "outputs": [
    {
     "name": "stdout",
     "output_type": "stream",
     "text": [
      "Problem 1 – Nghiệm: [0. 2.]\n",
      "Problem 2 – Nghiệm: [3. 1. 2.]\n",
      "Problem 3 – Hệ số đa thức (a, b, c): [ 1. -4.  7.]\n",
      "Problem 4 – Hệ số phân rã (a, b, c): [-0.11111111 -0.66666667  1.11111111]\n"
     ]
    }
   ],
   "source": [
    "# BÀI TẬP 1\n",
    "import numpy as np\n",
    "\n",
    "A1 = np.array([[1, -1], [2, 3]])\n",
    "b1 = np.array([-2, 6])\n",
    "x1 = np.linalg.solve(A1, b1)\n",
    "print(\"Problem 1 – Nghiệm:\", x1)\n",
    "\n",
    "A2 = np.array([[1, -1, 0], [2, -1, -1], [1, 1, 1]])\n",
    "b2 = np.array([2, 3, 6])\n",
    "x2 = np.linalg.solve(A2, b2)\n",
    "print(\"Problem 2 – Nghiệm:\", x2)\n",
    "\n",
    "A3 = np.array([[1, 1, 1], [4, 2, 1], [9, 3, 1]])\n",
    "b3 = np.array([4, 3, 4])\n",
    "x3 = np.linalg.solve(A3, b3)\n",
    "print(\"Problem 3 – Hệ số đa thức (a, b, c):\", x3)\n",
    "\n",
    "A4 = np.array([[1, 0, 1], [1, 1, -2], [-2, 2, 1]])\n",
    "b4 = np.array([1, -3, 0])\n",
    "x4 = np.linalg.solve(A4, b4)\n",
    "print(\"Problem 4 – Hệ số phân rã (a, b, c):\", x4)\n"
   ]
  },
  {
   "cell_type": "code",
   "execution_count": 20,
   "id": "2b48fc6f",
   "metadata": {},
   "outputs": [
    {
     "name": "stdout",
     "output_type": "stream",
     "text": [
      "Problem 1: {x: 0, y: 2}\n",
      "Problem 2: {x: 3, y: 1, z: 2}\n",
      "Problem 3: {a: 1, b: -4, c: 7}\n",
      "Problem 4: {a: -1/9, b: -2/3, c: 10/9}\n"
     ]
    }
   ],
   "source": [
    "# BÀI TẬP 2\n",
    "from sympy import symbols, Eq, solve, Matrix\n",
    "x, y = symbols('x y')\n",
    "eq1 = Eq(x - y, -2)\n",
    "eq2 = Eq(2*x + 3*y, 6)\n",
    "sol1 = solve((eq1, eq2), (x, y))\n",
    "print(\"Problem 1:\", sol1)\n",
    "\n",
    "x, y, z = symbols('x y z')\n",
    "eq1 = Eq(x - y, 2)\n",
    "eq2 = Eq(2*x - y - z, 3)\n",
    "eq3 = Eq(x + y + z, 6)\n",
    "sol2 = solve((eq1, eq2, eq3), (x, y, z))\n",
    "print(\"Problem 2:\", sol2)\n",
    "\n",
    "a, b, c = symbols('a b c')\n",
    "eq1 = Eq(a + b + c, 4)\n",
    "eq2 = Eq(4*a + 2*b + c, 3)\n",
    "eq3 = Eq(9*a + 3*b + c, 4)\n",
    "sol3 = solve((eq1, eq2, eq3), (a, b, c))\n",
    "print(\"Problem 3:\", sol3)\n",
    "\n",
    "eq1 = Eq(a + c, 1)\n",
    "eq2 = Eq(a + b - 2*c, -3)\n",
    "eq3 = Eq(-2*a + 2*b + c, 0)\n",
    "sol4 = solve((eq1, eq2, eq3), (a, b, c))\n",
    "print(\"Problem 4:\", sol4)\n"
   ]
  },
  {
   "cell_type": "code",
   "execution_count": null,
   "id": "00cb1e75",
   "metadata": {},
   "outputs": [],
   "source": [
    "# BÀI TẬP 3\n",
    "import numpy as np\n",
    "def fib_matrix(k):\n",
    "    F = np.array([[1, 1], [1, 0]], dtype=object)\n",
    "    return np.linalg.matrix_power(F, k)\n",
    "\n",
    "def fibonacci(n):\n",
    "    fib = [0, 1]\n",
    "    for i in range(2, n+2):\n",
    "        fib.append(fib[-1] + fib[-2])\n",
    "    return fib\n",
    "\n",
    "k = 7\n",
    "Fk = fib_matrix(k)\n",
    "fib_seq = fibonacci(k+1)\n",
    "print(\"F^k:\")\n",
    "print(Fk)\n",
    "print(\"So sánh với Fibonacci:\")\n",
    "print(f\"Fib[{k+1}] = {fib_seq[k+1]}, Fib[{k}] = {fib_seq[k]}, Fib[{k-1}] = {fib_seq[k-1]}\")\n"
   ]
  },
  {
   "cell_type": "code",
   "execution_count": 12,
   "id": "fbb8eb80",
   "metadata": {},
   "outputs": [
    {
     "name": "stdout",
     "output_type": "stream",
     "text": [
      "[89 55]\n"
     ]
    }
   ],
   "source": [
    "# BÀI THỰC HÀNH 4\n",
    "import numpy as np\n",
    "A = np.array( [ [1,1], [1,0] ] )\n",
    "b = np.array([1, 0])\n",
    "n = 10\n",
    "for i in range(n):\n",
    "    b = A.dot(b)\n",
    "print(b)"
   ]
  },
  {
   "cell_type": "code",
   "execution_count": null,
   "id": "8db16150",
   "metadata": {},
   "outputs": [
    {
     "name": "stdout",
     "output_type": "stream",
     "text": [
      "[30, 50, 70]\n",
      "[5, 9, 13]\n",
      "68\n",
      "56\n"
     ]
    }
   ],
   "source": [
    "# BÀI THỰCỰC HÀNH 1\n",
    "def scale(a,v):\n",
    "  return [a*vi for vi in v]\n",
    "v = [3,5,7]\n",
    "print(scale(10,v))\n",
    "def sumvector(v,w):\n",
    "  return[vi + wi for (vi,wi) in zip(v,w)]\n",
    "v = [3,5,7]\n",
    "w = [2,4,6]\n",
    "print(sumvector(v,w))\n",
    "def dotvector(v,w):\n",
    "  return sum([vi*wi for (vi, wi) in zip(v, w)])\n",
    "print(dotvector(v,w))\n",
    "def lenvector(v):\n",
    "  return dotvector(v,v)\n",
    "print(lenvector(w))\n",
    "  "
   ]
  },
  {
   "cell_type": "code",
   "execution_count": null,
   "id": "0c90dc3b",
   "metadata": {},
   "outputs": [
    {
     "name": "stdout",
     "output_type": "stream",
     "text": [
      "D =\n",
      "[[3 4]\n",
      " [5 6]]\n",
      "\n",
      "C =\n",
      "[[0.5488135  0.71518937 0.60276338 0.54488318 0.4236548  0.64589411\n",
      "  0.43758721]\n",
      " [0.891773   0.96366276 0.38344152 0.79172504 0.52889492 0.56804456\n",
      "  0.92559664]\n",
      " [0.07103606 0.0871293  0.0202184  0.83261985 0.77815675 0.87001215\n",
      "  0.97861834]\n",
      " [0.79915856 0.46147936 0.78052918 0.11827443 0.63992102 0.14335329\n",
      "  0.94466892]\n",
      " [0.52184832 0.41466194 0.26455561 0.77423369 0.45615033 0.56843395\n",
      "  0.0187898 ]]\n",
      "\n",
      "A =\n",
      "[[0.6176355  0.61209572]\n",
      " [0.616934   0.94374808]]\n",
      "\n",
      "b (array) =\n",
      "[[1.+5.j 0.+2.j 0.+3.j]\n",
      " [4.+0.j 5.+0.j 6.+0.j]]\n",
      "\n",
      "B (matrix) =\n",
      "[[1.+5.j 0.+2.j 0.+3.j]\n",
      " [4.+0.j 5.+0.j 6.+0.j]]\n",
      "\n",
      "A.T =\n",
      "[[0.6176355  0.616934  ]\n",
      " [0.61209572 0.94374808]]\n",
      "\n",
      "A.I =\n",
      "[[ 4.59760157 -2.98191045]\n",
      " [-3.00548078  3.00889824]]\n",
      "\n",
      "inv(A) =\n",
      "[[ 4.59760157 -2.98191045]\n",
      " [-3.00548078  3.00889824]]\n",
      "\n",
      "M_lower =\n",
      "[[-1  0  0]\n",
      " [ 0 -2  0]\n",
      " [ 1  5 -2]]\n",
      "\n",
      "M_upper =\n",
      "[[-1  3  2]\n",
      " [ 0 -2  1]\n",
      " [ 0  0 -2]]\n",
      "\n",
      "v_diag =\n",
      "[-1 -2 -2]\n",
      "\n",
      "M_diag =\n",
      "[[-1  0  0]\n",
      " [ 0 -2  0]\n",
      " [ 0  0 -2]]\n"
     ]
    }
   ],
   "source": [
    "# BÀI THỰC HÀNH 3\n",
    "import numpy as np\n",
    "from scipy import linalg\n",
    "np.random.seed(0)\n",
    "D = np.asmatrix([[3, 4], [5, 6]])\n",
    "print(\"D =\")\n",
    "print(D)\n",
    "C = np.asmatrix(np.random.random((5, 7)))\n",
    "print(\"\\nC =\")\n",
    "print(C)\n",
    "A = np.asmatrix(np.random.random((2, 2)))\n",
    "print(\"\\nA =\")\n",
    "print(A)\n",
    "b = np.array([(1+5j, 2j, 3j), (4, 5, 6)])\n",
    "B = np.asmatrix(b)\n",
    "print(\"\\nb (array) =\")\n",
    "print(b)\n",
    "print(\"\\nB (matrix) =\")\n",
    "print(B)\n",
    "print(\"\\nA.T =\")\n",
    "print(A.T)\n",
    "print(\"\\nA.I =\")\n",
    "print(A.I)\n",
    "print(\"\\ninv(A) =\")\n",
    "print(linalg.inv(A))\n",
    "M = np.array([[-1, 3, 2], [ 0, -2, 1], [ 1,  5, -2]])\n",
    "print(\"\\nM_lower =\")\n",
    "print(np.tril(M))\n",
    "print(\"\\nM_upper =\")\n",
    "print(np.triu(M))\n",
    "v_diag = np.diag(M)\n",
    "print(\"\\nv_diag =\")\n",
    "print(v_diag)\n",
    "print(\"\\nM_diag =\")\n",
    "print(np.diag(v_diag))\n"
   ]
  }
 ],
 "metadata": {
  "kernelspec": {
   "display_name": "Python 3",
   "language": "python",
   "name": "python3"
  },
  "language_info": {
   "codemirror_mode": {
    "name": "ipython",
    "version": 3
   },
   "file_extension": ".py",
   "mimetype": "text/x-python",
   "name": "python",
   "nbconvert_exporter": "python",
   "pygments_lexer": "ipython3",
   "version": "3.12.7"
  }
 },
 "nbformat": 4,
 "nbformat_minor": 5
}
