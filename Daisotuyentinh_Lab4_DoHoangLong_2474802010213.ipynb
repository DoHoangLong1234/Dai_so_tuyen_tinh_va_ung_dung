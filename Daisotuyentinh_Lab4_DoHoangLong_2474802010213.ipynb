{
 "cells": [
  {
   "cell_type": "code",
   "execution_count": null,
   "id": "5153ad43",
   "metadata": {},
   "outputs": [
    {
     "name": "stdout",
     "output_type": "stream",
     "text": [
      "[(1, 2, 3), (1, 3, 2), (2, 1, 3), (2, 3, 1), (3, 1, 2), (3, 2, 1)]\n"
     ]
    }
   ],
   "source": [
    "# BÀI THỰC HÀNH 1\n",
    "import numpy as np \n",
    "n = 4\n",
    "X = np.array(range(1,n+1))\n",
    "sigma = np.array([4,3,2,1])\n",
    "def sgn_by_def(sigma):\n",
    "    ket_qua = 1.0\n",
    "    for i in range(len(X)-1):\n",
    "            for j in range(i+1,len(X)):\n",
    "                 ket_qua = ket_qua * ((X[i]-X[j])/(sigma[i]-sigma[j]))\n",
    "                 return int(ket_qua)\n",
    "sigma = np.array([2,1,3,4])\n",
    "print(sgn_by_def(sigma))\n",
    "sigma = np.array([1,2,3,4])\n",
    "print(sgn_by_def(sigma))\n",
    "sigma = np.array([4,3,2,1])\n",
    "print(sgn_by_def(sigma))\n",
    "\n",
    "from itertools import permutations\n",
    "n = 3\n",
    "X = []\n",
    "for i in range (1, n+1):\n",
    "    X.append(i)\n",
    "Sn = list(permutations(X)) \n",
    "print (Sn)\n",
    "det = 0\n",
    "\n",
    "import numpy as np\n",
    "def phatsinh_dinhthuc(n):\n",
    "     X = []\n",
    "     for i in range(1,n+1):\n",
    "          X.append(i)\n",
    "Sn = list(permutations(X))\n",
    "dinhthuc = \"\"\n",
    "for sn in Sn:\n",
    "     sigma = np.array([1])\n",
    "     sigma.resize\n",
    "\n"
   ]
  },
  {
   "cell_type": "code",
   "execution_count": null,
   "id": "c223484f",
   "metadata": {},
   "outputs": [
    {
     "name": "stdout",
     "output_type": "stream",
     "text": [
      "[(1, 2, 3), (1, 3, 2), (2, 1, 3), (2, 3, 1), (3, 1, 2), (3, 2, 1)]\n",
      "+a11a22a33-a11a23a32-a12a21a33+a12a23a31+a13a21a32-a13a22a31\n",
      "85\n"
     ]
    }
   ],
   "source": [
    "# ĐỊNH THỨC\n",
    "from itertools import permutations\n",
    "import numpy as np\n",
    "import math\n",
    "def sgn_by_def(permutation):\n",
    "    inversions = 0\n",
    "    n = len(permutation)\n",
    "    for i in range(n):\n",
    "        for j in range(i + 1, n):\n",
    "            if permutation[i] > permutation[j]:\n",
    "                inversions += 1\n",
    "    return 1 if inversions % 2 == 0 else -1\n",
    "\n",
    "n = 3\n",
    "X = []\n",
    "for i in range(1, n+1):\n",
    "    X.append(i)\n",
    "Sn = list(permutations(X)) \n",
    "print(Sn)\n",
    "\n",
    "def phatsinh_dinhthuc(n):\n",
    "    X = list(range(1, n + 1)) \n",
    "    Sn = list(permutations(X))  \n",
    "    dinhthuc = \"\"\n",
    "    for sn in Sn:\n",
    "        product = \"\"\n",
    "        for i in range(1, n + 1):\n",
    "            product += \"a\" + str(i) + str(sn[i - 1])\n",
    "        dau = sgn_by_def(list(sn))\n",
    "        if dau == 1:\n",
    "            dinhthuc += \"+\" + product\n",
    "        else:\n",
    "            dinhthuc += \"-\" + product\n",
    "    return dinhthuc\n",
    "print(phatsinh_dinhthuc(3))\n",
    "\n",
    "def tinhtoan_dinhthuc(A):\n",
    "    X = []\n",
    "    n = int(math.sqrt(A.size))\n",
    "    for i in range(1, n+1):\n",
    "        X.append(i)\n",
    "    Sn = list(permutations(X))\n",
    "    dinhthuc = 0\n",
    "    for sn in Sn:\n",
    "        sigma = np.array([1])\n",
    "        sigma.resize([n])\n",
    "        product = 1\n",
    "        for i in range(1, n+1):\n",
    "            sigma[sn.index(i)] = i\n",
    "            product *= A[i-1][sn.index(i)] \n",
    "        dau = sgn_by_def(sigma)  \n",
    "        if (dau == 1):\n",
    "            dinhthuc = dinhthuc + product\n",
    "        else:\n",
    "            dinhthuc = dinhthuc + product * (-1)  \n",
    "    return dinhthuc\n",
    "\n",
    "matran = np.array([[3, 5, -8], [4, 12, -1], [2, 5, 3]])\n",
    "print(tinhtoan_dinhthuc(matran))"
   ]
  },
  {
   "cell_type": "code",
   "execution_count": 8,
   "id": "870f075f",
   "metadata": {},
   "outputs": [
    {
     "name": "stdout",
     "output_type": "stream",
     "text": [
      "Ma trận A:\n",
      "[[ 3  5 -8]\n",
      " [ 4 12 -1]\n",
      " [ 2  5  3]]\n",
      "Ma trận nghịch đảo A^-1:\n",
      "[[ 0.48235294 -0.64705882  1.07058824]\n",
      " [-0.16470588  0.29411765 -0.34117647]\n",
      " [-0.04705882 -0.05882353  0.18823529]]\n",
      "Kiểm tra AA^-1:\n",
      "[[ 1.00000000e+00 -1.66533454e-16  0.00000000e+00]\n",
      " [ 5.55111512e-17  1.00000000e+00 -2.22044605e-16]\n",
      " [ 2.77555756e-17 -1.38777878e-17  1.00000000e+00]]\n"
     ]
    }
   ],
   "source": [
    "# BÀI THỰC HÀNH 2\n",
    "import numpy as np\n",
    "\n",
    "def get_minor_matrix(A, i, j):\n",
    "    return np.delete(np.delete(A, i, axis=0), j, axis=1)\n",
    "\n",
    "def determinant(A):\n",
    "    if A.shape == (2, 2):\n",
    "        return A[0, 0] * A[1, 1] - A[0, 1] * A[1, 0]\n",
    "    det = 0\n",
    "    for j in range(A.shape[1]):\n",
    "        det += ((-1) ** j) * A[0, j] * determinant(get_minor_matrix(A, 0, j))\n",
    "    return det\n",
    "\n",
    "def cofactor_matrix(A):\n",
    "    n = A.shape[0]\n",
    "    C = np.zeros((n, n))\n",
    "    for i in range(n):\n",
    "        for j in range(n):\n",
    "            C[i, j] = ((-1) ** (i + j)) * determinant(get_minor_matrix(A, i, j))\n",
    "    return C\n",
    "\n",
    "def adjoint_matrix(A):\n",
    "    return cofactor_matrix(A).T\n",
    "\n",
    "def inverse_matrix(A):\n",
    "    det_A = determinant(A)\n",
    "    if det_A == 0:\n",
    "        raise ValueError(\"Ma trận không khả nghịch (determinant = 0)\")\n",
    "    return (1 / det_A) * adjoint_matrix(A)\n",
    "\n",
    "A = np.array([[3, 5, -8],\n",
    "              [4, 12, -1],\n",
    "              [2, 5, 3]])\n",
    "\n",
    "A_inv = inverse_matrix(A)\n",
    "print(\"Ma trận A:\")\n",
    "print(A)\n",
    "print(\"Ma trận nghịch đảo A^-1:\")\n",
    "print(A_inv)\n",
    "print(\"Kiểm tra AA^-1:\")\n",
    "print(np.dot(A, A_inv))"
   ]
  },
  {
   "cell_type": "code",
   "execution_count": 10,
   "id": "b737bc93",
   "metadata": {},
   "outputs": [
    {
     "name": "stdout",
     "output_type": "stream",
     "text": [
      "Nghiệm của phương trình: x = -0.0 y = -2.499999999999999 z = -1.9999999999999991\n"
     ]
    }
   ],
   "source": [
    "# BÀI THỰC HÀNH 3\n",
    "import numpy as np\n",
    "from scipy import linalg\n",
    "\n",
    "A = np.array([[1, 2, -3],\n",
    "              [2, -2, 1],\n",
    "              [3, -4, 4]])\n",
    "b = np.array([1, 3, 2])\n",
    "\n",
    "detA = linalg.det(A)\n",
    "\n",
    "A1 = np.array([[b[0], 2, -3],\n",
    "               [b[1], -2, 1],\n",
    "               [b[2], -4, 4]])\n",
    "A2 = np.array([[1, b[0], -3],\n",
    "               [2, b[1], 1],\n",
    "               [3, b[2], 4]])\n",
    "A3 = np.array([[1, 2, b[0]],\n",
    "               [2, -2, b[1]],\n",
    "               [3, -4, b[2]]])\n",
    "\n",
    "detA1 = linalg.det(A1)\n",
    "detA2 = linalg.det(A2)\n",
    "detA3 = linalg.det(A3)\n",
    "\n",
    "if detA != 0:\n",
    "    x = detA1 / detA\n",
    "    y = detA2 / detA\n",
    "    z = detA3 / detA\n",
    "    print(\"Nghiệm của phương trình:\", \"x =\", x, \"y =\", y, \"z =\", z)\n"
   ]
  },
  {
   "cell_type": "code",
   "execution_count": 11,
   "id": "af2fb0ba",
   "metadata": {},
   "outputs": [
    {
     "name": "stdout",
     "output_type": "stream",
     "text": [
      "Phương trình đường cong ellipse: 0\n"
     ]
    }
   ],
   "source": [
    "# BÀI THỰC HÀNH 5\n",
    "from sympy import *\n",
    "x, y = symbols('x y')\n",
    "MP = Matrix([[x*y, y**2, x, y, 1],\n",
    "             [1*0, 0**2, 1, 0, 1],\n",
    "             [2*1, 1**2, 2, 1, 1],\n",
    "             [3*2, 2**2, 3, 2, 1],\n",
    "             [4*3, 3**2, 4, 3, 1]])\n",
    "equation = MP.det()\n",
    "print(\"Phương trình đường cong ellipse:\", equation)"
   ]
  },
  {
   "cell_type": "code",
   "execution_count": 12,
   "id": "19666925",
   "metadata": {},
   "outputs": [
    {
     "name": "stdout",
     "output_type": "stream",
     "text": [
      "Phương trình mặt phẳng: -4*x + 3*y - 5*z - 3\n"
     ]
    }
   ],
   "source": [
    "# BÀI THỰC HÀNH 4\n",
    "from sympy import *\n",
    "x, y, z = symbols('x y z')\n",
    "MP = Matrix([[x, y, z, 1], [-1, 3, 2, 1], [0, 1, 0, 1], [-2, 0, 1, 1]])\n",
    "equation = MP.det()\n",
    "print(\"Phương trình mặt phẳng:\", equation)"
   ]
  },
  {
   "cell_type": "code",
   "execution_count": 13,
   "id": "73760579",
   "metadata": {},
   "outputs": [
    {
     "name": "stdout",
     "output_type": "stream",
     "text": [
      "Ma trận hệ số kép (cofactor matrix):\n",
      "[[ -3.   6.  -3.]\n",
      " [  6. -12.   6.]\n",
      " [ -3.   6.  -3.]]\n",
      "Ma trận liên hợp (adjoint matrix):\n",
      "[[ -3.   6.  -3.]\n",
      " [  6. -12.   6.]\n",
      " [ -3.   6.  -3.]]\n"
     ]
    }
   ],
   "source": [
    "# BÀI TẬP 1\n",
    "import numpy as np\n",
    "A = np.array([[1, 2, 3],\n",
    "              [4, 5, 6],\n",
    "              [7, 8, 9]])\n",
    "def cofactor_matrix(matrix):\n",
    "    n = matrix.shape[0]\n",
    "    cofactors = np.zeros((n, n))\n",
    "    for i in range(n):\n",
    "        for j in range(n):\n",
    "            minor = np.delete(np.delete(matrix, i, axis=0), j, axis=1)\n",
    "            cofactors[i, j] = ((-1) ** (i + j)) * np.linalg.det(minor)\n",
    "    return cofactors\n",
    "cofactor = cofactor_matrix(A)\n",
    "print(\"Ma trận hệ số kép (cofactor matrix):\")\n",
    "print(cofactor)\n",
    "adjoint = cofactor.T\n",
    "print(\"Ma trận liên hợp (adjoint matrix):\")\n",
    "print(adjoint)"
   ]
  },
  {
   "cell_type": "code",
   "execution_count": null,
   "id": "4b980c84",
   "metadata": {},
   "outputs": [],
   "source": [
    "# BÀI TẬP 2\n",
    "from sympy import *\n",
    "\n",
    "x, y = symbols('x y')\n",
    "MP = Matrix([[x**2 + y**2, x, y, 1],\n",
    "             [1**2 + 0**2, 1, 0, 1],\n",
    "             [2**2 + 1**2, 2, 1, 1],\n",
    "             [3**2 + 2**2, 3, 2, 1]])\n",
    "equation = MP.det()\n",
    "print(\"Phương trình đường cong (ellipse):\")\n",
    "print(equation)"
   ]
  }
 ],
 "metadata": {
  "kernelspec": {
   "display_name": "Python 3",
   "language": "python",
   "name": "python3"
  },
  "language_info": {
   "codemirror_mode": {
    "name": "ipython",
    "version": 3
   },
   "file_extension": ".py",
   "mimetype": "text/x-python",
   "name": "python",
   "nbconvert_exporter": "python",
   "pygments_lexer": "ipython3",
   "version": "3.12.7"
  }
 },
 "nbformat": 4,
 "nbformat_minor": 5
}
