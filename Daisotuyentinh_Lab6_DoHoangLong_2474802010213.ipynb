{
 "cells": [
  {
   "cell_type": "code",
   "execution_count": 3,
   "id": "177826cd",
   "metadata": {},
   "outputs": [
    {
     "name": "stdout",
     "output_type": "stream",
     "text": [
      "32\n"
     ]
    },
    {
     "name": "stderr",
     "output_type": "stream",
     "text": [
      "c:\\Users\\84989\\AppData\\Local\\Programs\\Python\\Python312\\Lib\\site-packages\\numpy\\linalg\\_linalg.py:2788: RuntimeWarning: overflow encountered in power\n",
      "  absx **= ord\n"
     ]
    },
    {
     "data": {
      "text/plain": [
       "np.float64(3.0)"
      ]
     },
     "execution_count": 3,
     "metadata": {},
     "output_type": "execute_result"
    }
   ],
   "source": [
    "# BÀI THỰC HÀNH 1\n",
    "import numpy as np\n",
    "a = np.array([1,2,3])\n",
    "b = np.array([4,5,6])\n",
    "tich = np.inner(a,b)\n",
    "print(tich)\n",
    "np.dot(a,b)\n",
    "p = np.array([[1,2,3],[1,1,1]])\n",
    "q = np.array([[4,5,6],[2,2,2]])\n",
    "np.inner(p,q)\n",
    "a = np.array([1,2,-3])\n",
    "np.linalg.norm(a)\n",
    "np.linalg.norm(a,1)\n",
    "def chuan(v,k):\n",
    "    tong = 0\n",
    "    for i in range(len(v)):\n",
    "        ketqua = math.pow(tong + abs(v[i])**k, 1.0/k)\n",
    "    return ketqua\n",
    "import math\n",
    "a = np.array([1,2,-3])\n",
    "chuan(a,1)\n",
    "np.linalg.norm(a,1)\n",
    "chuan(a,2)\n",
    "np.linalg.norm(a,2)\n",
    "chuan(a,3)\n",
    "np.linalg.norm(a,3)\n",
    "chuan(a,1000)\n",
    "np.linalg.norm(a,1000)\n",
    "from scipy import linalg\n",
    "a = np.array([1,2,-3])\n",
    "linalg.norm(a)\n",
    "linalg.norm(a,100)"
   ]
  },
  {
   "cell_type": "code",
   "execution_count": null,
   "id": "b9d10482",
   "metadata": {},
   "outputs": [
    {
     "name": "stdout",
     "output_type": "stream",
     "text": [
      "[1.3 0.9 0. ]\n"
     ]
    }
   ],
   "source": [
    "# BÀI THỰC HÀNH 2\n",
    "import numpy as np\n",
    "m = 10\n",
    "v1 = np.array([5,-4,3])\n",
    "v2 = np.array([4,3,-2])\n",
    "v3 = np.array([-4,-3,-1])\n",
    "v4 = np.array([-9,8,6])\n",
    "mi = np.array([2,5,2,1])\n",
    "M = np.array([v1,v2,v3,v4])\n",
    "MT = M.transpose()\n",
    "MT\n",
    "v = (1.0/m)*MT.dot(mi)\n",
    "print(v)"
   ]
  },
  {
   "cell_type": "code",
   "execution_count": 8,
   "id": "fcf45c81",
   "metadata": {},
   "outputs": [
    {
     "name": "stdout",
     "output_type": "stream",
     "text": [
      "⎧   68         ⎫\n",
      "⎨x: ──, y: 1/69⎬\n",
      "⎩   69         ⎭\n",
      "[-7.000, 3.000]\n",
      "[-7, 3]\n",
      "[[-0.3  0.9]\n",
      " [ 0.3  0.1]]\n",
      "[[49  0]\n",
      " [ 0  9]]\n"
     ]
    }
   ],
   "source": [
    "# BÀI THỰC HÀNH 3\n",
    "import sympy as sym\n",
    "x, y = sym.symbols('x y')\n",
    "xy = sym.Matrix([x,y])\n",
    "A = sym.Matrix([[1, -68],[1,1]])\n",
    "v = sym.Matrix([0, 1])\n",
    "nghiem = sym.solve([A*xy-v])\n",
    "print(sym.pretty(nghiem))\n",
    "import sympy\n",
    "x, y, Lambda = sympy.symbols('x y Lambda')\n",
    "I = sympy.eye(2)\n",
    "A = sympy.Matrix([[2,3],[3,-6]])\n",
    "phuongtrinh = sympy.Eq(sympy.det(Lambda*I-A), 0)\n",
    "nghiem = sympy.solve(phuongtrinh)\n",
    "print([sympy.N(phantu,4) for phantu in nghiem])\n",
    "print(sympy.pretty(nghiem))\n",
    "import numpy as np\n",
    "A = np.array([[2,3],[3,-6]])\n",
    "D = np.array([[-7,0],[0,3]])\n",
    "P = np.array([[-1.0/3, 3],[1,1]])\n",
    "from numpy import linalg\n",
    "from numpy import linalg as LA\n",
    "P1 = LA.inv(P)\n",
    "print(P1)\n",
    "A.dot(P)\n",
    "P.dot(D)\n",
    "P @ (D ** 1000) @ P1\n",
    "print(D ** 2)"
   ]
  },
  {
   "cell_type": "code",
   "execution_count": 15,
   "id": "e5e53f08",
   "metadata": {},
   "outputs": [],
   "source": [
    "# BÀI TẬP CÂU 1\n",
    "import numpy as np\n",
    "import math\n",
    "a = np.array([1,2,3])\n",
    "a_magnitude = np.sqrt(np.dot(a, a))\n",
    "b = np.array([4,5,6])\n",
    "c = np.sqrt(np.inner(b, a))\n",
    "d = np.linalg.norm(b * math.sqrt(sum(i**2 for i in a)))\n"
   ]
  },
  {
   "cell_type": "code",
   "execution_count": 16,
   "id": "d1c3a1a0",
   "metadata": {},
   "outputs": [],
   "source": [
    "# BÀI TẬP CÂU 2\n",
    "import numpy as np\n",
    "u = np.array([1,2])\n",
    "v = np.array([3,4])\n",
    "theta = np.arccos(np.dot(u, v) / (np.linalg.norm(u) * np.linalg.norm(v)))\n",
    "p = (np.dot(u, v) / (np.linalg.norm(v)**2)) * v"
   ]
  }
 ],
 "metadata": {
  "kernelspec": {
   "display_name": "Python 3",
   "language": "python",
   "name": "python3"
  },
  "language_info": {
   "codemirror_mode": {
    "name": "ipython",
    "version": 3
   },
   "file_extension": ".py",
   "mimetype": "text/x-python",
   "name": "python",
   "nbconvert_exporter": "python",
   "pygments_lexer": "ipython3",
   "version": "3.12.7"
  }
 },
 "nbformat": 4,
 "nbformat_minor": 5
}
